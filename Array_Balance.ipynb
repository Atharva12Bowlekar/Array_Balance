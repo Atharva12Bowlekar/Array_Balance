{
 "cells": [
  {
   "cell_type": "code",
   "execution_count": 1,
   "metadata": {},
   "outputs": [],
   "source": [
    "def Array_Balance(elem):\n",
    "    res=[]\n",
    "    if(sum(elem)%2!=0 or len(elem)==1):\n",
    "        print('h')\n",
    "        return 0\n",
    "    x=sum(elem)//2\n",
    "    for i in range(sum(elem)+1):\n",
    "        res.append(0)\n",
    "    res[0]=1\n",
    "    for j in elem:\n",
    "        for i in range((x+1),-1,-1):\n",
    "            if((i-j)>=0):\n",
    "                if(res[i-j]==1):\n",
    "                    res[i]=1\n",
    "    if(res[x]==1):\n",
    "        return 1\n",
    "    else:\n",
    "        return 0"
   ]
  },
  {
   "cell_type": "code",
   "execution_count": 3,
   "metadata": {},
   "outputs": [
    {
     "data": {
      "text/plain": [
       "1"
      ]
     },
     "execution_count": 3,
     "metadata": {},
     "output_type": "execute_result"
    }
   ],
   "source": [
    "Array_Balance([1,1,1,2,1])"
   ]
  },
  {
   "cell_type": "code",
   "execution_count": null,
   "metadata": {},
   "outputs": [],
   "source": []
  }
 ],
 "metadata": {
  "kernelspec": {
   "display_name": "Python 3",
   "language": "python",
   "name": "python3"
  },
  "language_info": {
   "codemirror_mode": {
    "name": "ipython",
    "version": 3
   },
   "file_extension": ".py",
   "mimetype": "text/x-python",
   "name": "python",
   "nbconvert_exporter": "python",
   "pygments_lexer": "ipython3",
   "version": "3.8.3"
  }
 },
 "nbformat": 4,
 "nbformat_minor": 4
}
